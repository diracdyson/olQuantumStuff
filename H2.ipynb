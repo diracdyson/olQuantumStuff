{
 "cells": [
  {
   "cell_type": "code",
   "execution_count": 36,
   "metadata": {},
   "outputs": [],
   "source": [
    "import numpy as np\n",
    "import matplotlib.pyplot as plt\n",
    "%matplotlib inline\n",
    "\n",
    "from qiskit import BasicAer\n",
    "from qiskit.transpiler import PassManager\n",
    "from qiskit.aqua import Operator, QuantumInstance, aqua_globals\n",
    "from qiskit.aqua.algorithms.adaptive import VQE\n",
    "from qiskit.aqua.algorithms.classical import ExactEigensolver\n",
    "from qiskit.aqua.components.optimizers import L_BFGS_B, COBYLA,SPSA\n",
    "from qiskit.aqua.components.variational_forms import RY, RYRZ, SwapRZ\n",
    "\n",
    "from qiskit.chemistry import FermionicOperator\n",
    "from qiskit.chemistry.drivers import PyQuanteDriver, UnitsType, BasisType, HFMethodType\n",
    "\n",
    "aqua_globals.random_seed = 50"
   ]
  },
  {
   "cell_type": "code",
   "execution_count": 37,
   "metadata": {},
   "outputs": [],
   "source": [
    "def VQE_calcualting(input_molecule,distance):\n",
    "    \n",
    "    \n",
    "    if input_molecule == \"H2\":\n",
    "        driver = PyQuanteDriver(atoms = \"H 0.0 0.0 0.0; H 0.0 0.0 {}\".format(distance),units = UnitsType.ANGSTROM,\n",
    "                            charge= 0, multiplicity=1,hf_method=HFMethodType.RHF, basis=BasisType.B631G)\n",
    "    else:\n",
    "        raise ValueError(\"Unidentified molecule\")\n",
    "        \n",
    "    #\n",
    "    molecule = driver.run()\n",
    "    nuclear_repulsion=molecule.nuclear_repulsion_energy\n",
    "    ferOp = FermionicOperator(h1=molecule.one_body_integrals, h2=molecule.two_body_integrals)\n",
    "    qubitOp_bk = ferOp.mapping(map_type='JORDAN_WIGNER', threshold=0.00000001)\n",
    "    # chop is some form tolerance ??\n",
    "    qubitOp_bk.chop(10**-10) \n",
    "    print(\"Processing: {:.2f} Angstrom\".format(distance),end='\\r')\n",
    "    \n",
    "    # Exact solver\n",
    "    exact_eigensolver = ExactEigensolver(qubitOp_bk, k=1)\n",
    "    result_exact = exact_eigensolver.run()\n",
    "    \n",
    "    # VQE part\n",
    "    \n",
    "    #classical optimization\n",
    "    lbfgs = L_BFGS_B(maxfun=1000, factr=10, iprint=10)\n",
    "    cobyla=COBYLA(maxiter=1000)\n",
    "    spsa=SPSA(max_trials=1000)\n",
    "    \n",
    "    #variational form     \n",
    "    var_form = RY(qubitOp_bk.num_qubits, 5, entanglement='full')\n",
    "    \n",
    "    # parameters for VQE are hamiltonian, ansatz and classical optimizer\n",
    "    vqe_algorithm = VQE(qubitOp_bk, var_form, lbfgs)\n",
    "    vqe_algorithm2 = VQE(qubitOp_bk, var_form, cobyla)\n",
    "    vqe_algorithm3 = VQE(qubitOp_bk, var_form, spsa)\n",
    "    \n",
    "    #call backend\n",
    "    backend = BasicAer.get_backend('statevector_simulator')\n",
    "    quantum_instance = QuantumInstance(backend, pass_manager=PassManager())\n",
    "    #running VQE function\n",
    "    result_vqe = vqe_algorithm.run(quantum_instance)\n",
    "    result_vqe2 = vqe_algorithm2.run(quantum_instance)\n",
    "    result_vqe3 = vqe_algorithm3.run(quantum_instance)\n",
    "    #return results\n",
    "    return result_exact[\"energy\"],result_vqe['eigvals'][0],result_vqe2['eigvals'][0],result_vqe3['eigvals'][0],nuclear_repulsion"
   ]
  },
  {
   "cell_type": "code",
   "execution_count": 38,
   "metadata": {},
   "outputs": [],
   "source": [
    "def potential_curve_VQE(input_molecule,begin_distance,end_distance):\n",
    "    \n",
    "    \n",
    "    #vectorification for graphing\n",
    "    bond_distance = np.arange(begin_distance,end_distance+0.1 ,0.1)\n",
    "    energy_exact = np.zeros(len(bond_distance))\n",
    "    energy_VQE = np.zeros(len(bond_distance))\n",
    "    energy_VQE2=np.zeros(len(bond_distance))\n",
    "    energy_VQE3=np.zeros(len(bond_distance))\n",
    "    nuclear=np.zeros(len(bond_distance))\n",
    "    \n",
    "    # graphing energy over r \n",
    "    for i,dis in enumerate(bond_distance):\n",
    "        results = VQE_calcualting(input_molecule,dis)\n",
    "        energy_exact[i] = results[0]\n",
    "        energy_VQE[i]   = results[1]\n",
    "        energy_VQE2[i]  = results[2]\n",
    "        energy_VQE2[i]  = results[3]\n",
    "        nuclear[i]= results[4]\n",
    "    # plt.plot \n",
    "    plt.plot(bond_distance, energy_exact+nuclear, label=\"Exact Ground state energy\")\n",
    "    plt.plot(bond_distance, energy_VQE+nuclear,   label=\"VQE lbfgs\")\n",
    "    plt.plot(bond_distance, energy_VQE2+nuclear,   label=\"VQE cobyla\")\n",
    "    plt.plot(bond_distance, energy_VQE3+nuclear,   label=\"VQE spsa\")\n",
    "    plt.title(\"The ground state of {}\".format(input_molecule))\n",
    "    plt.xlabel('Atomic distance (Angstrom)')\n",
    "    plt.ylabel('Energy (Hatree)')\n",
    "    plt.legend()\n",
    "    plt.show()  "
   ]
  },
  {
   "cell_type": "code",
   "execution_count": 40,
   "metadata": {},
   "outputs": [
    {
     "name": "stdout",
     "output_type": "stream",
     "text": [
      "Processing: 4.00 Angstrom\r"
     ]
    },
    {
     "data": {
      "image/png": "[encoded data removed]",
      "text/plain": [
       "<Figure size 432x288 with 1 Axes>"
      ]
     },
     "metadata": {
      "needs_background": "light"
     },
     "output_type": "display_data"
    }
   ],
   "source": [
    "begin_distance = 0.2 # ANGSTROM\n",
    "end_distance   = 4.0   # ANGSTROM\n",
    "input_molecule = \"H2\"\n",
    "\n",
    "\n",
    "potential_curve_VQE(input_molecule,begin_distance,end_distance)"
   ]
  },
  {
   "cell_type": "code",
   "execution_count": 10,
   "metadata": {},
   "outputs": [],
   "source": [
    "?COBYLA"
   ]
  },
  {
   "cell_type": "code",
   "execution_count": 19,
   "metadata": {},
   "outputs": [
    {
     "name": "stdout",
     "output_type": "stream",
     "text": [
      "Object `.nuclear_repulsion_energy` not found.\n"
     ]
    }
   ],
   "source": []
  },
  {
   "cell_type": "code",
   "execution_count": 43,
   "metadata": {},
   "outputs": [],
   "source": [
    "?RY"
   ]
  },
  {
   "cell_type": "code",
   "execution_count": 35,
   "metadata": {},
   "outputs": [],
   "source": [
    "?SPSA"
   ]
  },
  {
   "cell_type": "code",
   "execution_count": null,
   "metadata": {},
   "outputs": [],
   "source": []
  }
 ],
 "metadata": {
  "kernelspec": {
   "display_name": "Python 3",
   "language": "python",
   "name": "python3"
  },
  "language_info": {
   "codemirror_mode": {
    "name": "ipython",
    "version": 3
   },
   "file_extension": ".py",
   "mimetype": "text/x-python",
   "name": "python",
   "nbconvert_exporter": "python",
   "pygments_lexer": "ipython3",
   "version": "3.7.6"
  }
 },
 "nbformat": 4,
 "nbformat_minor": 2
}
