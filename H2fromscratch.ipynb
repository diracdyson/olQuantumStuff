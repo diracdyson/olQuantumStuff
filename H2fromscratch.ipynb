{
 "cells": [
  {
   "cell_type": "code",
   "execution_count": 1,
   "metadata": {},
   "outputs": [],
   "source": [
    "from scipy.optimize import minimize\n",
    "from qiskit import QuantumCircuit, ClassicalRegister, QuantumRegister\n",
    "import numpy as np\n",
    "from qiskit import execute, Aer\n",
    "from qiskit.aqua.components.variational_forms import RY, RYRZ, SwapRZ\n",
    "\n",
    "from qiskit.circuit import Parameter\n",
    "import matplotlib.pyplot as plt\n",
    "%matplotlib inline\n",
    "\n",
    "import xlwt\n",
    "from xlwt import Workbook"
   ]
  },
  {
   "cell_type": "code",
   "execution_count": 2,
   "metadata": {},
   "outputs": [],
   "source": [
    "backend = Aer.get_backend('qasm_simulator') \n",
    "T = 8192 # number of shots"
   ]
  },
  {
   "cell_type": "code",
   "execution_count": 3,
   "metadata": {},
   "outputs": [],
   "source": [
    "def val_form(val_form, entanglement_gate,theta,depth,qr,cr,qc): \n",
    "    \n",
    "    if val_form == \"RY\":\n",
    "        if len(theta) == depth*2+2:\n",
    "            qc.ry(theta[0],qr[0])\n",
    "            qc.ry(theta[1],qr[1])\n",
    "            qc.barrier()\n",
    "        else:\n",
    "            raise Exception('The length of parameter list should be:{}'.format(depth*2+2))\n",
    "        \n",
    "        if entanglement_gate == \"rz\":\n",
    "            for i in range(depth):\n",
    "                qc.cz(qr[0],qr[1])\n",
    "                qc.ry(theta[2*i+2],qr[0])\n",
    "                qc.ry(theta[2*i+3],qr[1])\n",
    "                qc.barrier()\n",
    "        elif entanglement_gate == \"rx\":\n",
    "            for i in range(depth):\n",
    "                qc.cx(qr[0],qr[1])\n",
    "                qc.ry(theta[2*i+2],qr[0])\n",
    "                qc.ry(theta[2*i+3],qr[1])\n",
    "                qc.barrier()\n",
    "        else:\n",
    "            raise Exception(\"Unindentified Entanglement Gate\")\n",
    "          \n",
    "            \n",
    "    elif val_form == \"RYRZ\":\n",
    "        if len(theta) == depth*4+4:\n",
    "            qc.ry(theta[0],qr[0])\n",
    "            qc.ry(theta[1],qr[1])\n",
    "            qc.rz(theta[2],qr[0])\n",
    "            qc.rz(theta[3],qr[1])\n",
    "            qc.barrier()\n",
    "            \n",
    "        else:\n",
    "            raise Exception('The length of parameter list should be:{}'.format(depth*4+4))\n",
    "    \n",
    "        if entanglement_gate == \"rz\":\n",
    "            for i in range(depth):\n",
    "                qc.cz(qr[0],qr[1])\n",
    "                qc.ry(theta[4*i+4],qr[0])\n",
    "                qc.ry(theta[4*i+5],qr[1])\n",
    "                qc.rz(theta[4*i+6],qr[0])\n",
    "                qc.rz(theta[4*i+7],qr[1])\n",
    "                qc.barrier()\n",
    "                \n",
    "        elif entanglement_gate == \"rx\":\n",
    "            for i in range(depth):\n",
    "                qc.cx(qr[0],qr[1])\n",
    "                qc.ry(theta[4*i+4],qr[0])\n",
    "                qc.ry(theta[4*i+5],qr[1])\n",
    "                qc.rz(theta[4*i+6],qr[0])\n",
    "                qc.rz(theta[4*i+7],qr[1])\n",
    "                qc.barrier()\n",
    "      \n",
    "        else:\n",
    "            raise Exception(\"Unindentified Entanglement Gate\")\n",
    "            \n",
    "    else:\n",
    "        raise Exception(\"Unindentified Variation Form\")   \n",
    "    qc.draw(output=\"mpl\")"
   ]
  },
  {
   "cell_type": "code",
   "execution_count": 4,
   "metadata": {},
   "outputs": [],
   "source": [
    "def Z0I(theta):\n",
    "    qr = QuantumRegister(2)\n",
    "    cr = ClassicalRegister(2)\n",
    "    qc = QuantumCircuit(qr,cr)\n",
    "    \n",
    "#    val_form(variational_form, entangled_gate,theta[:p*depth+p],depth,qr,cr,qc)\n",
    "    val_form(variational_form, entangled_gate,theta,depth,qr,cr,qc)\n",
    "    qc.z(qr[0])    \n",
    "    qc.measure(qr,cr)\n",
    "    \n",
    "    shots = T\n",
    "    max_credits = 3\n",
    "    \n",
    "    job_Z0I = execute(qc, backend=backend, shots=shots,max_credits=max_credits)\n",
    "    result_Z0I = job_Z0I.result()\n",
    "    counts_Z0I = result_Z0I.get_counts(qc)\n",
    "    \n",
    "    exp_val = 0\n",
    "    if \"00\" in list (counts_Z0I):\n",
    "        exp_val=exp_val+counts_Z0I[\"00\"]/T\n",
    "    if \"01\" in list (counts_Z0I):\n",
    "        exp_val=exp_val+counts_Z0I[\"01\"]/T\n",
    "    if \"10\" in list (counts_Z0I):\n",
    "        exp_val=exp_val-counts_Z0I[\"10\"]/T\n",
    "    if \"11\" in list (counts_Z0I):\n",
    "        exp_val=exp_val-counts_Z0I[\"11\"]/T\n",
    "    del qc,qr,cr\n",
    "    return exp_val\n",
    "\n",
    "def IZ1(theta):\n",
    "    qr = QuantumRegister(2)\n",
    "    cr = ClassicalRegister(2)\n",
    "    qc = QuantumCircuit(qr,cr)\n",
    "    \n",
    "#    val_form(variational_form, entangled_gate,theta[p*depth+p:],depth,qr,cr,qc)\n",
    "    val_form(variational_form, entangled_gate,theta,depth,qr,cr,qc)\n",
    "    qc.z(qr[1])    \n",
    "    qc.measure(qr,cr)\n",
    "    \n",
    "    shots = T\n",
    "    max_credits = 3\n",
    "    \n",
    "    job_IZ1 = execute(qc, backend=backend, shots=shots,max_credits=max_credits)\n",
    "    result_IZ1 = job_IZ1.result()\n",
    "    counts_IZ1 = result_IZ1.get_counts(qc)\n",
    "\n",
    "    exp_val = 0\n",
    "    if \"00\" in list (counts_IZ1):\n",
    "        exp_val=exp_val+counts_IZ1[\"00\"]/T\n",
    "    if \"01\" in lis t (counts_IZ1):\n",
    "        exp_val=exp_val-counts_IZ1[\"01\"]/T\n",
    "    if \"10\" in list (counts_IZ1):\n",
    "        exp_val=exp_val+counts_IZ1[\"10\"]/T\n",
    "    if \"11\" in list (counts_IZ1):\n",
    "        exp_val=exp_val-counts_IZ1[\"11\"]/T\n",
    "    del qc,qr,cr\n",
    "    return exp_val\n",
    "  "
   ]
  },
  {
   "cell_type": "code",
   "execution_count": 5,
   "metadata": {},
   "outputs": [],
   "source": [
    "def h00(R):\n",
    "    return (-1 + np.exp(-2*R)*(2+2/R) - 2/R + np.exp(-R)*(-(1/3)*(R**2)-3*R-3))/(2 + np.exp(-R)*((2/3)*(R**2)+2*R+2))\n",
    "\n",
    "def h11(R):\n",
    "    return (-1 + np.exp(-2*R)*(2+2/R) - 2/R - np.exp(-R)*(-(1/3)*(R**2)-3*R-3))/(2 - np.exp(-R)*((2/3)*(R**2)+2*R+2))"
   ]
  },
  {
   "cell_type": "code",
   "execution_count": 6,
   "metadata": {},
   "outputs": [],
   "source": [
    "def partial_opt_exp_val_a0(theta):\n",
    "    total_energy = 0.5*h00(R)-0.5*h00(R)*(Z0I(theta))\n",
    "    return total_energy\n",
    "\n",
    "def partial_opt_exp_val_a1(theta):\n",
    "    total_energy = 0.5*h11(R)-0.5*h11(R)*(IZ1(theta))\n",
    "    return total_energy"
   ]
  },
  {
   "cell_type": "code",
   "execution_count": 10,
   "metadata": {},
   "outputs": [
    {
     "name": "stdout",
     "output_type": "stream",
     "text": [
      "Processing distance: 2.00 \r"
     ]
    }
   ],
   "source": [
    "begin_distance = 0.1 # Bohr\n",
    "end_distance   = 2   # Bohr\n",
    "bond_distance = np.arange(begin_distance,end_distance+0.1 ,0.1)\n",
    "energy_VQE_cobyla_a0 = np.zeros(len(bond_distance))\n",
    "repulsion = 1/bond_distance\n",
    "\n",
    "for i,R in enumerate(bond_distance):\n",
    "    iter_num = 0\n",
    "    variational_form = \"RY\"\n",
    "    if variational_form == \"RYRZ\":\n",
    "        p = 4\n",
    "    elif variational_form == \"RY\":\n",
    "        p = 2\n",
    "    entangled_gate = \"rx\"\n",
    "    depth = 2\n",
    "    theta = np.random.rand(p*depth+p)\n",
    "    print(\"Processing distance: {:.2f} \".format(R),end='\\r')\n",
    "    res = minimize(partial_opt_exp_val_a0,theta, method=\"cobyla\", tol=1e-5,options={\"disp\":True})\n",
    "    energy_VQE_cobyla_a0[i] = res.fun\n",
    "    \n",
    "    "
   ]
  },
  {
   "cell_type": "code",
   "execution_count": 11,
   "metadata": {},
   "outputs": [
    {
     "name": "stdout",
     "output_type": "stream",
     "text": [
      "Processing distance: 10.00 \r"
     ]
    }
   ],
   "source": [
    "begin_distance = 0.1 # Bohr\n",
    "end_distance   = 10   # Bohr\n",
    "bond_distance = np.arange(begin_distance,end_distance+0.1 ,0.1)\n",
    "energy_VQE_cobyla_a1 = np.zeros(len(bond_distance))\n",
    "repulsion = 1/bond_distance\n",
    "\n",
    "for i,R in enumerate(bond_distance):\n",
    "    iter_num = 0\n",
    "    variational_form = \"RY\"\n",
    "    if variational_form == \"RYRZ\":\n",
    "        p = 4\n",
    "    elif variational_form == \"RY\":\n",
    "        p = 2\n",
    "    entangled_gate = \"rx\"\n",
    "    depth = 2\n",
    "    theta = np.random.rand(p*depth+p)\n",
    "    print(\"Processing distance: {:.2f} \".format(R),end='\\r')\n",
    "    res = minimize(partial_opt_exp_val_a1,theta, method=\"cobyla\", tol=1e-5,options={\"disp\":True})\n",
    "    energy_VQE_cobyla_a1[i] = res.fun"
   ]
  },
  {
   "cell_type": "code",
   "execution_count": 9,
   "metadata": {},
   "outputs": [
    {
     "data": {
      "image/png": "[encoded data removed]",
      "text/plain": [
       "<Figure size 432x432 with 1 Axes>"
      ]
     },
     "metadata": {
      "needs_background": "light"
     },
     "output_type": "display_data"
    }
   ],
   "source": [
    "exact = [8.02176,3.07138,1.46663,0.69925,0.26501,-0.00482,-0.18262,-0.30448,-0.39027,-0.45179,-0.49641,-0.52897,-0.55274,-0.56998,-0.58232,-0.59094,-0.5967,-0.60025,-0.60211,-0.60263,-0.60213,-0.60084,-0.59893,-0.59655,-0.59382,-0.59083,-0.58766,-0.58436,-0.58098,-0.57756,-0.57414,-0.57074,-0.56738,-0.56408,-0.56086,-0.55771,-0.55465,-0.55169,-0.54884,-0.54608,-0.54344,-0.5409,-0.53847,-0.53615,-0.53394,-0.53183,-0.52983,-0.52793,-0.52613,-0.52442,-0.52281,-0.52129,-0.51985,-0.5185,-0.51723,-0.51604,-0.51492,-0.51387,-0.51289,-0.51197,-0.51111,-0.51031,-0.50956,-0.50886,-0.50822,-0.50761,-0.50705,-0.50653,-0.50604,-0.50559,-0.50518,-0.50479,-0.50443,-0.5041,-0.50379,-0.50351,-0.50325,-0.503,-0.50278,-0.50257,-0.50238,-0.5022,-0.50204,-0.50189,-0.50175,-0.50162,-0.5015,-0.50139,-0.50129,-0.5012,-0.50111,-0.50103,-0.50096,-0.50089,-0.50083,-0.50077,-0.50072,-0.50067,-0.50062,-0.50058]\n",
    "\n",
    "fig, ax = plt.subplots(figsize=(6, 6))\n",
    "plt.plot(bond_distance, energy_VQE_cobyla_a0+repulsion,   label=\"$a_0^+a_0$ w/ repul\")\n",
    "plt.plot(bond_distance, energy_VQE_cobyla_a0,   label=\"$a_0^+a_0$ w/o repul\")\n",
    "plt.plot(bond_distance, energy_VQE_cobyla_a1+repulsion,   label=\"$a_10^+a_1$ w/ repul\")\n",
    "plt.plot(bond_distance, energy_VQE_cobyla_a1,   label=\"$a_1^+a_1$ w/o repul\")\n",
    "plt.plot(bond_distance, exact,   label=\"Exact energy w/ repul\")\n",
    "\n",
    "plt.title(\"The ground state of $H_2^+$ by Cobyla 1e-5\")\n",
    "plt.xlabel('Atomic distance (Bohr)')\n",
    "plt.ylabel('Energy (Hatree)')\n",
    "plt.xlim(0,9)\n",
    "plt.ylim(-1.5,1)\n",
    "plt.axhline(-1,  linestyle='-.',linewidth = 1,color=\"red\")\n",
    "plt.axhline(-0.5,  linestyle='-.',linewidth = 1,color=\"forestgreen\")\n",
    "plt.legend()\n",
    "plt.show()"
   ]
  },
  {
   "cell_type": "code",
   "execution_count": null,
   "metadata": {},
   "outputs": [],
   "source": []
  },
  {
   "cell_type": "code",
   "execution_count": null,
   "metadata": {},
   "outputs": [],
   "source": []
  }
 ],
 "metadata": {
  "kernelspec": {
   "display_name": "Python 3",
   "language": "python",
   "name": "python3"
  },
  "language_info": {
   "codemirror_mode": {
    "name": "ipython",
    "version": 3
   },
   "file_extension": ".py",
   "mimetype": "text/x-python",
   "name": "python",
   "nbconvert_exporter": "python",
   "pygments_lexer": "ipython3",
   "version": "3.7.6"
  }
 },
 "nbformat": 4,
 "nbformat_minor": 2
}
